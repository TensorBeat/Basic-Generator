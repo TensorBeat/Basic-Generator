{
  "nbformat": 4,
  "nbformat_minor": 0,
  "metadata": {
    "colab": {
      "name": "LSTM_MVP.ipynb",
      "provenance": [],
      "machine_shape": "hm",
      "authorship_tag": "ABX9TyOnMCu1ALKYsYmuQBi1LNKu",
      "include_colab_link": true
    },
    "kernelspec": {
      "name": "python3",
      "display_name": "Python 3"
    },
    "language_info": {
      "name": "python"
    },
    "accelerator": "GPU"
  },
  "cells": [
    {
      "cell_type": "markdown",
      "metadata": {
        "id": "view-in-github",
        "colab_type": "text"
      },
      "source": [
        "<a href=\"https://colab.research.google.com/github/TensorBeat/Basic-Generator/blob/master/LSTM_MVP.ipynb\" target=\"_parent\"><img src=\"https://colab.research.google.com/assets/colab-badge.svg\" alt=\"Open In Colab\"/></a>"
      ]
    },
    {
      "cell_type": "code",
      "metadata": {
        "id": "USEdFYnc_wHR"
      },
      "source": [
        "!python3 mlp_gan.py"
      ],
      "execution_count": null,
      "outputs": []
    },
    {
      "cell_type": "code",
      "metadata": {
        "id": "lvsl1UcMpKj8"
      },
      "source": [
        "!python3 predict.py"
      ],
      "execution_count": null,
      "outputs": []
    },
    {
      "cell_type": "code",
      "metadata": {
        "colab": {
          "base_uri": "https://localhost:8080/"
        },
        "id": "2kaFqpj42imh",
        "outputId": "3b01b152-f71b-4881-dea1-700994a350c2"
      },
      "source": [
        "!git clone https://github.com/elsalmi/MusiGAN.git"
      ],
      "execution_count": null,
      "outputs": [
        {
          "output_type": "stream",
          "text": [
            "Cloning into 'MusiGAN'...\n",
            "remote: Enumerating objects: 18, done.\u001b[K\n",
            "remote: Counting objects: 100% (18/18), done.\u001b[K\n",
            "remote: Compressing objects: 100% (15/15), done.\u001b[K\n",
            "remote: Total 495 (delta 8), reused 9 (delta 3), pack-reused 477\u001b[K\n",
            "Receiving objects: 100% (495/495), 111.45 MiB | 26.17 MiB/s, done.\n",
            "Resolving deltas: 100% (36/36), done.\n",
            "Checking out files: 100% (437/437), done.\n"
          ],
          "name": "stdout"
        }
      ]
    },
    {
      "cell_type": "code",
      "metadata": {
        "colab": {
          "base_uri": "https://localhost:8080/"
        },
        "id": "oTnz0jSc3ASg",
        "outputId": "41f1f555-bdaa-4cae-f1f6-77f8b71abebc"
      },
      "source": [
        "cd MusiGAN/"
      ],
      "execution_count": null,
      "outputs": [
        {
          "output_type": "stream",
          "text": [
            "/content/MusiGAN\n"
          ],
          "name": "stdout"
        }
      ]
    },
    {
      "cell_type": "code",
      "metadata": {
        "colab": {
          "base_uri": "https://localhost:8080/"
        },
        "id": "8GXJXlt13Fy2",
        "outputId": "41052a75-984e-48b3-da54-faa59128d6fd"
      },
      "source": [
        "!python3 ./Models/ gan_final.py\n"
      ],
      "execution_count": null,
      "outputs": [
        {
          "output_type": "stream",
          "text": [
            "/usr/bin/python3: can't find '__main__' module in './Models/'\n"
          ],
          "name": "stdout"
        }
      ]
    }
  ]
}